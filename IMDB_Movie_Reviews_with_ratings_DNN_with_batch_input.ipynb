{
  "cells": [
    {
      "cell_type": "markdown",
      "metadata": {
        "id": "len4b2jRLIUF"
      },
      "source": [
        "#Background"
      ]
    },
    {
      "cell_type": "markdown",
      "metadata": {
        "id": "Huh_Jv_tKSIQ"
      },
      "source": [
        "link to the compatition from kaggle https://www.kaggle.com/ebiswas/imdb-review-dataset"
      ]
    },
    {
      "cell_type": "markdown",
      "metadata": {
        "id": "tSm5fSJeLMmP"
      },
      "source": [
        "the data of this project was taken from kaggle. this data contain reviews and rating score from IMDB site.\n",
        "\n",
        "the dataset was separated to 6 files due to their huge size.\n",
        "i used the GCP to hold our data and the some snapshot of our models.\n",
        "i needed to use GPU, so all the processes i run from colab, cause in colab we get it free (1 GPU) "
      ]
    },
    {
      "cell_type": "markdown",
      "metadata": {
        "id": "n-BGNuiorIrK"
      },
      "source": [
        "#Import Data from kaggle"
      ]
    },
    {
      "cell_type": "markdown",
      "metadata": {
        "id": "aPL5uiirJ_71"
      },
      "source": [
        "##make preparations"
      ]
    },
    {
      "cell_type": "markdown",
      "metadata": {
        "id": "jpLJn9_Emmnn"
      },
      "source": [
        "###import packages for the project"
      ]
    },
    {
      "cell_type": "code",
      "execution_count": 1,
      "metadata": {
        "id": "bdI_8GJgqUYP"
      },
      "outputs": [],
      "source": [
        "import pandas as pd\n",
        "import numpy as np\n",
        "# import matplotlib.pyplot as plt\n",
        "# import seaborn as sns\n",
        "from sklearn import metrics\n",
        "from sklearn.preprocessing import StandardScaler#, MinMaxScaler\n",
        "from sklearn.model_selection import train_test_split, GridSearchCV#, cross_val_score\n",
        "import seaborn as sns\n",
        "import matplotlib.pyplot as plt\n",
        "import os\n",
        "import re\n",
        "import shutil\n",
        "import string\n",
        "import tensorflow as tf\n",
        "from tensorflow import keras\n",
        "from tensorflow.keras import layers\n",
        "from tensorflow.keras import losses\n",
        "from sklearn.metrics import confusion_matrix\n",
        "# from tensorflow.keras import regularizers"
      ]
    },
    {
      "cell_type": "code",
      "execution_count": 2,
      "metadata": {
        "id": "i-EDqIWiX52s"
      },
      "outputs": [],
      "source": [
        "import pickle\n",
        "import zipfile\n",
        "import os\n",
        "import json\n",
        "import random\n",
        "import math"
      ]
    },
    {
      "cell_type": "code",
      "execution_count": 3,
      "metadata": {
        "colab": {
          "base_uri": "https://localhost:8080/"
        },
        "id": "L32h8WXNrMq2",
        "outputId": "e2328c46-4d4b-4de5-9f1b-5f4d8793a03b"
      },
      "outputs": [
        {
          "output_type": "stream",
          "name": "stdout",
          "text": [
            "[nltk_data] Downloading package stopwords to /root/nltk_data...\n",
            "[nltk_data]   Unzipping corpora/stopwords.zip.\n"
          ]
        }
      ],
      "source": [
        "import nltk\n",
        "nltk.download('stopwords')\n",
        "from nltk.corpus import stopwords"
      ]
    },
    {
      "cell_type": "markdown",
      "metadata": {
        "id": "vAeeBNQ2Rq_C"
      },
      "source": [
        "###GCP"
      ]
    },
    {
      "cell_type": "code",
      "execution_count": 4,
      "metadata": {
        "id": "7b2f7ae4-0fb8-44f2-b6c3-cdd0a643484f"
      },
      "outputs": [],
      "source": [
        "from google.cloud import storage"
      ]
    },
    {
      "cell_type": "code",
      "execution_count": 5,
      "metadata": {
        "id": "NGXxeaRGfYd2"
      },
      "outputs": [],
      "source": [
        "os.environ[\"GOOGLE_APPLICATION_CREDENTIALS\"]=\"/content/drive/MyDrive/Colab Notebooks/Project/credentials/fair-kingdom-344320-e03c86809be5.json\""
      ]
    },
    {
      "cell_type": "markdown",
      "metadata": {
        "id": "FPk1oONhat4W"
      },
      "source": [
        "now trying to connect to storage"
      ]
    },
    {
      "cell_type": "code",
      "execution_count": 6,
      "metadata": {
        "id": "x-JnsCaWPf3r"
      },
      "outputs": [],
      "source": [
        "client = storage.Client()"
      ]
    },
    {
      "cell_type": "code",
      "execution_count": 7,
      "metadata": {
        "colab": {
          "base_uri": "https://localhost:8080/"
        },
        "id": "mjoRvIcfTNe3",
        "outputId": "5eac8897-3c55-463f-d03c-4b9a67b93c78"
      },
      "outputs": [
        {
          "output_type": "stream",
          "name": "stdout",
          "text": [
            "ds7718-final_project-oren\n"
          ]
        }
      ],
      "source": [
        "#list all my buckets\n",
        "for buck in client.list_buckets():\n",
        "  print(buck.name)"
      ]
    },
    {
      "cell_type": "code",
      "execution_count": 8,
      "metadata": {
        "colab": {
          "base_uri": "https://localhost:8080/",
          "height": 0
        },
        "id": "E4-_HGA_OLHN",
        "outputId": "648b882d-a9be-4483-b875-b0afb6ec4b9d"
      },
      "outputs": [
        {
          "output_type": "execute_result",
          "data": {
            "text/plain": [
              "'ds7718-final_project-oren'"
            ],
            "application/vnd.google.colaboratory.intrinsic+json": {
              "type": "string"
            }
          },
          "metadata": {},
          "execution_count": 8
        }
      ],
      "source": [
        "bucket_name='ds7718-final_project-oren'\n",
        "bucket_name"
      ]
    },
    {
      "cell_type": "markdown",
      "metadata": {
        "id": "az4DY7Hca8K1"
      },
      "source": [
        "prerequisite to mount the bucket into colab (via gcsfuse)"
      ]
    },
    {
      "cell_type": "code",
      "execution_count": 9,
      "metadata": {
        "colab": {
          "base_uri": "https://localhost:8080/"
        },
        "id": "eoVl7O2YikiN",
        "outputId": "344b0661-7542-4fc4-9ed2-0289099cc622"
      },
      "outputs": [
        {
          "output_type": "stream",
          "name": "stdout",
          "text": [
            "  % Total    % Received % Xferd  Average Speed   Time    Time     Time  Current\n",
            "                                 Dload  Upload   Total   Spent    Left  Speed\n",
            "\r  0     0    0     0    0     0      0      0 --:--:-- --:--:-- --:--:--     0\r100  2537  100  2537    0     0  46981      0 --:--:-- --:--:-- --:--:-- 47867\n",
            "OK\n",
            "40 packages can be upgraded. Run 'apt list --upgradable' to see them.\n",
            "The following NEW packages will be installed:\n",
            "  gcsfuse\n",
            "0 upgraded, 1 newly installed, 0 to remove and 40 not upgraded.\n",
            "Need to get 12.0 MB of archives.\n",
            "After this operation, 28.6 MB of additional disk space will be used.\n",
            "Selecting previously unselected package gcsfuse.\n",
            "(Reading database ... 156210 files and directories currently installed.)\n",
            "Preparing to unpack .../gcsfuse_0.40.0_amd64.deb ...\n",
            "Unpacking gcsfuse (0.40.0) ...\n",
            "Setting up gcsfuse (0.40.0) ...\n"
          ]
        }
      ],
      "source": [
        "!echo deb http://packages.cloud.google.com/apt gcsfuse-bionic main > /etc/apt/sources.list.d/gcsfuse.list\n",
        "!curl https://packages.cloud.google.com/apt/doc/apt-key.gpg | apt-key add -\n",
        "!apt -qq update\n",
        "!apt -qq install gcsfuse"
      ]
    },
    {
      "cell_type": "code",
      "execution_count": 10,
      "metadata": {
        "colab": {
          "base_uri": "https://localhost:8080/"
        },
        "id": "-bOiXHqvjTjT",
        "outputId": "3ab57cf9-e6a5-4ec3-a247-c1788a38731c"
      },
      "outputs": [
        {
          "output_type": "stream",
          "name": "stdout",
          "text": [
            "2022/03/24 20:22:40.404779 Start gcsfuse/0.40.0 (Go version go1.17.6) for app \"\" using mount point: /content/ds7718-final_project\n",
            "2022/03/24 20:22:40.419185 Opening GCS connection...\n",
            "2022/03/24 20:22:40.577932 Mounting file system \"ds7718-final_project-oren\"...\n",
            "2022/03/24 20:22:40.581372 File system has been successfully mounted.\n"
          ]
        }
      ],
      "source": [
        "!mkdir ds7718-final_project\n",
        "!gcsfuse --implicit-dirs ds7718-final_project-oren ds7718-final_project"
      ]
    },
    {
      "cell_type": "markdown",
      "metadata": {
        "id": "YLbWO65GRxdD"
      },
      "source": [
        "###Kaggle"
      ]
    },
    {
      "cell_type": "code",
      "execution_count": 11,
      "metadata": {
        "colab": {
          "base_uri": "https://localhost:8080/"
        },
        "id": "k4ClIeTyXlRC",
        "outputId": "a8d6c15f-edbb-484a-d586-d149d3e5178e"
      },
      "outputs": [
        {
          "output_type": "stream",
          "name": "stdout",
          "text": [
            "Requirement already satisfied: kaggle in /usr/local/lib/python3.7/dist-packages (1.5.12)\n",
            "Requirement already satisfied: urllib3 in /usr/local/lib/python3.7/dist-packages (from kaggle) (1.24.3)\n",
            "Requirement already satisfied: python-dateutil in /usr/local/lib/python3.7/dist-packages (from kaggle) (2.8.2)\n",
            "Requirement already satisfied: requests in /usr/local/lib/python3.7/dist-packages (from kaggle) (2.23.0)\n",
            "Requirement already satisfied: six>=1.10 in /usr/local/lib/python3.7/dist-packages (from kaggle) (1.15.0)\n",
            "Requirement already satisfied: tqdm in /usr/local/lib/python3.7/dist-packages (from kaggle) (4.63.0)\n",
            "Requirement already satisfied: python-slugify in /usr/local/lib/python3.7/dist-packages (from kaggle) (6.1.1)\n",
            "Requirement already satisfied: certifi in /usr/local/lib/python3.7/dist-packages (from kaggle) (2021.10.8)\n",
            "Requirement already satisfied: text-unidecode>=1.3 in /usr/local/lib/python3.7/dist-packages (from python-slugify->kaggle) (1.3)\n",
            "Requirement already satisfied: idna<3,>=2.5 in /usr/local/lib/python3.7/dist-packages (from requests->kaggle) (2.10)\n",
            "Requirement already satisfied: chardet<4,>=3.0.2 in /usr/local/lib/python3.7/dist-packages (from requests->kaggle) (3.0.4)\n"
          ]
        }
      ],
      "source": [
        "! pip install kaggle"
      ]
    },
    {
      "cell_type": "code",
      "execution_count": 12,
      "metadata": {
        "id": "3zUvEegVdeaz"
      },
      "outputs": [],
      "source": [
        "!mkdir -p ~/.kaggle\n",
        "!cp '/content/drive/MyDrive/Colab Notebooks/credentials/kaggle.json' ~/.kaggle/\n",
        "# ! kaggle competitions list\n"
      ]
    },
    {
      "cell_type": "code",
      "execution_count": 13,
      "metadata": {
        "id": "17R4MueEWqpw"
      },
      "outputs": [],
      "source": [
        "from kaggle.api.kaggle_api_extended import KaggleApi\n",
        "import os"
      ]
    },
    {
      "cell_type": "code",
      "execution_count": 14,
      "metadata": {
        "id": "qqU06rfuWZFA"
      },
      "outputs": [],
      "source": [
        "# Connect to Kaggle and get the DATASET file\n",
        "api = KaggleApi()\n",
        "api.authenticate()"
      ]
    },
    {
      "cell_type": "markdown",
      "metadata": {
        "id": "u6PuOFHpbUjs"
      },
      "source": [
        "##import the data\n",
        "* get json\n",
        "* seperate each record by new line\n",
        "* read data in bulks (via generators)\n"
      ]
    },
    {
      "cell_type": "code",
      "execution_count": 15,
      "metadata": {
        "id": "InKVzMP0X2e9"
      },
      "outputs": [],
      "source": [
        "### get file from kaggle and transform it to json file\n",
        "### the origin json file is in one line\n",
        "### in order to read in batch from json on Tensorflow, i seperate the rows into deferent lines\n",
        "\n",
        "def importer(filename):\n",
        "  api.dataset_download_file('ebiswas/imdb-review-dataset', filename)\n",
        "  archive = zipfile.ZipFile(filename + '.zip')\n",
        "\n",
        "  for file in archive.namelist():\n",
        "    archive.extract(file)\n",
        "  \n",
        "  os.remove(filename + '.zip')\n",
        "\n",
        "  #convert into df to save it with lines in json \n",
        "  df = pd.read_json(filename)\n",
        "  df.dropna(inplace=True)\n",
        "  df.to_json(filename, orient=\"records\", lines=True)\n",
        "  df_summery = df.groupby('rating')[['rating']].count().T.reset_index(drop=True)\n",
        "  df_summery.columns.name=None\n",
        "  return df_summery"
      ]
    },
    {
      "cell_type": "code",
      "execution_count": 16,
      "metadata": {
        "id": "gFvgEEFi8dOc"
      },
      "outputs": [],
      "source": [
        "!cp ds7718-final_project/raw/* ."
      ]
    },
    {
      "cell_type": "code",
      "execution_count": 17,
      "metadata": {
        "id": "A0UDHf5Z8YxT"
      },
      "outputs": [],
      "source": [
        "### get file from kaggle and transform it to json file\n",
        "### the origin json file is in one line\n",
        "### in order to read in batch from json on Tensorflow, i seperate the rows into deferent lines\n",
        "\n",
        "def importer(filename):\n",
        "\n",
        "  #convert into df to save it with lines in json \n",
        "  df = pd.read_json(filename, orient=\"records\", lines=True)\n",
        "  df_summery = df.groupby('rating')[['rating']].count().T.reset_index(drop=True)\n",
        "  df_summery.columns.name=None\n",
        "  return df_summery"
      ]
    },
    {
      "cell_type": "code",
      "execution_count": 18,
      "metadata": {
        "id": "yvBN3y9kZEyZ",
        "colab": {
          "base_uri": "https://localhost:8080/"
        },
        "outputId": "06812a3a-3d1b-4cfe-a5b8-85ae129223b3"
      },
      "outputs": [
        {
          "output_type": "stream",
          "name": "stdout",
          "text": [
            "part-01.json\n",
            "part-02.json\n",
            "part-03.json\n",
            "part-04.json\n",
            "part-05.json\n",
            "part-06.json\n"
          ]
        }
      ],
      "source": [
        "# filenames = ['part-01.json', 'part-02.json']\n",
        "REVIEWS_SUMMERY_PER_FILE = pd.DataFrame([])\n",
        "\n",
        "\n",
        "filenames = ['part-01.json', 'part-02.json',\n",
        "             'part-03.json', 'part-04.json',\n",
        "             'part-05.json', 'part-06.json']\n",
        "\n",
        "for filename in filenames:\n",
        "  print(filename)\n",
        "  df1 = importer(filename)\n",
        "  # df1.drop(columns=['rating'],inplace=True)\n",
        "  df1['filename'] = filename\n",
        "  REVIEWS_SUMMERY_PER_FILE = pd.concat([REVIEWS_SUMMERY_PER_FILE,df1], axis=0)\n",
        "  \n",
        "REVIEWS_SUMMERY_PER_FILE.reset_index(drop=True,inplace=True)\n"
      ]
    },
    {
      "cell_type": "code",
      "execution_count": 19,
      "metadata": {
        "id": "31Zh-cyy_N8f"
      },
      "outputs": [],
      "source": [
        "del df1"
      ]
    },
    {
      "cell_type": "markdown",
      "source": [
        "#analyse the balance of the dataset"
      ],
      "metadata": {
        "id": "kyY0YjgHnhlE"
      }
    },
    {
      "cell_type": "markdown",
      "source": [
        "## classes sizes"
      ],
      "metadata": {
        "id": "zZXlJrpppbRp"
      }
    },
    {
      "cell_type": "code",
      "execution_count": 20,
      "metadata": {
        "id": "ac_VLH87Spe8",
        "colab": {
          "base_uri": "https://localhost:8080/",
          "height": 237
        },
        "outputId": "8437ce72-717e-49c0-c637-a10789f03e12"
      },
      "outputs": [
        {
          "output_type": "execute_result",
          "data": {
            "text/plain": [
              "        1      2      3      4      5      6       7       8       9      10  \\\n",
              "0  111357  42242  43668  44636  58654  74483   99790  121886  112081  249976   \n",
              "1   99969  42569  44721  45884  61544  79254  107307  130688  113512  223304   \n",
              "2   92686  37796  40749  43168  57076  73790  102882  124214  106580  210265   \n",
              "3   86258  37653  39650  42383  55337  73236  101196  123797  107059  211184   \n",
              "4   80485  37110  43163  46801  63882  87651  124163  143370  113140  190718   \n",
              "5   27394  10586  11747  12190  16143  20939   31710   41259   38919   92796   \n",
              "\n",
              "       filename  \n",
              "0  part-01.json  \n",
              "1  part-02.json  \n",
              "2  part-03.json  \n",
              "3  part-04.json  \n",
              "4  part-05.json  \n",
              "5  part-06.json  "
            ],
            "text/html": [
              "\n",
              "  <div id=\"df-36c8cd1f-e512-4991-a08c-4348b470ddb6\">\n",
              "    <div class=\"colab-df-container\">\n",
              "      <div>\n",
              "<style scoped>\n",
              "    .dataframe tbody tr th:only-of-type {\n",
              "        vertical-align: middle;\n",
              "    }\n",
              "\n",
              "    .dataframe tbody tr th {\n",
              "        vertical-align: top;\n",
              "    }\n",
              "\n",
              "    .dataframe thead th {\n",
              "        text-align: right;\n",
              "    }\n",
              "</style>\n",
              "<table border=\"1\" class=\"dataframe\">\n",
              "  <thead>\n",
              "    <tr style=\"text-align: right;\">\n",
              "      <th></th>\n",
              "      <th>1</th>\n",
              "      <th>2</th>\n",
              "      <th>3</th>\n",
              "      <th>4</th>\n",
              "      <th>5</th>\n",
              "      <th>6</th>\n",
              "      <th>7</th>\n",
              "      <th>8</th>\n",
              "      <th>9</th>\n",
              "      <th>10</th>\n",
              "      <th>filename</th>\n",
              "    </tr>\n",
              "  </thead>\n",
              "  <tbody>\n",
              "    <tr>\n",
              "      <th>0</th>\n",
              "      <td>111357</td>\n",
              "      <td>42242</td>\n",
              "      <td>43668</td>\n",
              "      <td>44636</td>\n",
              "      <td>58654</td>\n",
              "      <td>74483</td>\n",
              "      <td>99790</td>\n",
              "      <td>121886</td>\n",
              "      <td>112081</td>\n",
              "      <td>249976</td>\n",
              "      <td>part-01.json</td>\n",
              "    </tr>\n",
              "    <tr>\n",
              "      <th>1</th>\n",
              "      <td>99969</td>\n",
              "      <td>42569</td>\n",
              "      <td>44721</td>\n",
              "      <td>45884</td>\n",
              "      <td>61544</td>\n",
              "      <td>79254</td>\n",
              "      <td>107307</td>\n",
              "      <td>130688</td>\n",
              "      <td>113512</td>\n",
              "      <td>223304</td>\n",
              "      <td>part-02.json</td>\n",
              "    </tr>\n",
              "    <tr>\n",
              "      <th>2</th>\n",
              "      <td>92686</td>\n",
              "      <td>37796</td>\n",
              "      <td>40749</td>\n",
              "      <td>43168</td>\n",
              "      <td>57076</td>\n",
              "      <td>73790</td>\n",
              "      <td>102882</td>\n",
              "      <td>124214</td>\n",
              "      <td>106580</td>\n",
              "      <td>210265</td>\n",
              "      <td>part-03.json</td>\n",
              "    </tr>\n",
              "    <tr>\n",
              "      <th>3</th>\n",
              "      <td>86258</td>\n",
              "      <td>37653</td>\n",
              "      <td>39650</td>\n",
              "      <td>42383</td>\n",
              "      <td>55337</td>\n",
              "      <td>73236</td>\n",
              "      <td>101196</td>\n",
              "      <td>123797</td>\n",
              "      <td>107059</td>\n",
              "      <td>211184</td>\n",
              "      <td>part-04.json</td>\n",
              "    </tr>\n",
              "    <tr>\n",
              "      <th>4</th>\n",
              "      <td>80485</td>\n",
              "      <td>37110</td>\n",
              "      <td>43163</td>\n",
              "      <td>46801</td>\n",
              "      <td>63882</td>\n",
              "      <td>87651</td>\n",
              "      <td>124163</td>\n",
              "      <td>143370</td>\n",
              "      <td>113140</td>\n",
              "      <td>190718</td>\n",
              "      <td>part-05.json</td>\n",
              "    </tr>\n",
              "    <tr>\n",
              "      <th>5</th>\n",
              "      <td>27394</td>\n",
              "      <td>10586</td>\n",
              "      <td>11747</td>\n",
              "      <td>12190</td>\n",
              "      <td>16143</td>\n",
              "      <td>20939</td>\n",
              "      <td>31710</td>\n",
              "      <td>41259</td>\n",
              "      <td>38919</td>\n",
              "      <td>92796</td>\n",
              "      <td>part-06.json</td>\n",
              "    </tr>\n",
              "  </tbody>\n",
              "</table>\n",
              "</div>\n",
              "      <button class=\"colab-df-convert\" onclick=\"convertToInteractive('df-36c8cd1f-e512-4991-a08c-4348b470ddb6')\"\n",
              "              title=\"Convert this dataframe to an interactive table.\"\n",
              "              style=\"display:none;\">\n",
              "        \n",
              "  <svg xmlns=\"http://www.w3.org/2000/svg\" height=\"24px\"viewBox=\"0 0 24 24\"\n",
              "       width=\"24px\">\n",
              "    <path d=\"M0 0h24v24H0V0z\" fill=\"none\"/>\n",
              "    <path d=\"M18.56 5.44l.94 2.06.94-2.06 2.06-.94-2.06-.94-.94-2.06-.94 2.06-2.06.94zm-11 1L8.5 8.5l.94-2.06 2.06-.94-2.06-.94L8.5 2.5l-.94 2.06-2.06.94zm10 10l.94 2.06.94-2.06 2.06-.94-2.06-.94-.94-2.06-.94 2.06-2.06.94z\"/><path d=\"M17.41 7.96l-1.37-1.37c-.4-.4-.92-.59-1.43-.59-.52 0-1.04.2-1.43.59L10.3 9.45l-7.72 7.72c-.78.78-.78 2.05 0 2.83L4 21.41c.39.39.9.59 1.41.59.51 0 1.02-.2 1.41-.59l7.78-7.78 2.81-2.81c.8-.78.8-2.07 0-2.86zM5.41 20L4 18.59l7.72-7.72 1.47 1.35L5.41 20z\"/>\n",
              "  </svg>\n",
              "      </button>\n",
              "      \n",
              "  <style>\n",
              "    .colab-df-container {\n",
              "      display:flex;\n",
              "      flex-wrap:wrap;\n",
              "      gap: 12px;\n",
              "    }\n",
              "\n",
              "    .colab-df-convert {\n",
              "      background-color: #E8F0FE;\n",
              "      border: none;\n",
              "      border-radius: 50%;\n",
              "      cursor: pointer;\n",
              "      display: none;\n",
              "      fill: #1967D2;\n",
              "      height: 32px;\n",
              "      padding: 0 0 0 0;\n",
              "      width: 32px;\n",
              "    }\n",
              "\n",
              "    .colab-df-convert:hover {\n",
              "      background-color: #E2EBFA;\n",
              "      box-shadow: 0px 1px 2px rgba(60, 64, 67, 0.3), 0px 1px 3px 1px rgba(60, 64, 67, 0.15);\n",
              "      fill: #174EA6;\n",
              "    }\n",
              "\n",
              "    [theme=dark] .colab-df-convert {\n",
              "      background-color: #3B4455;\n",
              "      fill: #D2E3FC;\n",
              "    }\n",
              "\n",
              "    [theme=dark] .colab-df-convert:hover {\n",
              "      background-color: #434B5C;\n",
              "      box-shadow: 0px 1px 3px 1px rgba(0, 0, 0, 0.15);\n",
              "      filter: drop-shadow(0px 1px 2px rgba(0, 0, 0, 0.3));\n",
              "      fill: #FFFFFF;\n",
              "    }\n",
              "  </style>\n",
              "\n",
              "      <script>\n",
              "        const buttonEl =\n",
              "          document.querySelector('#df-36c8cd1f-e512-4991-a08c-4348b470ddb6 button.colab-df-convert');\n",
              "        buttonEl.style.display =\n",
              "          google.colab.kernel.accessAllowed ? 'block' : 'none';\n",
              "\n",
              "        async function convertToInteractive(key) {\n",
              "          const element = document.querySelector('#df-36c8cd1f-e512-4991-a08c-4348b470ddb6');\n",
              "          const dataTable =\n",
              "            await google.colab.kernel.invokeFunction('convertToInteractive',\n",
              "                                                     [key], {});\n",
              "          if (!dataTable) return;\n",
              "\n",
              "          const docLinkHtml = 'Like what you see? Visit the ' +\n",
              "            '<a target=\"_blank\" href=https://colab.research.google.com/notebooks/data_table.ipynb>data table notebook</a>'\n",
              "            + ' to learn more about interactive tables.';\n",
              "          element.innerHTML = '';\n",
              "          dataTable['output_type'] = 'display_data';\n",
              "          await google.colab.output.renderOutput(dataTable, element);\n",
              "          const docLink = document.createElement('div');\n",
              "          docLink.innerHTML = docLinkHtml;\n",
              "          element.appendChild(docLink);\n",
              "        }\n",
              "      </script>\n",
              "    </div>\n",
              "  </div>\n",
              "  "
            ]
          },
          "metadata": {},
          "execution_count": 20
        }
      ],
      "source": [
        "REVIEWS_SUMMERY_PER_FILE"
      ]
    },
    {
      "cell_type": "code",
      "execution_count": 21,
      "metadata": {
        "id": "51u67f0rj3h1",
        "colab": {
          "base_uri": "https://localhost:8080/"
        },
        "outputId": "b8ad421f-c9e3-463d-8be0-dadede45ce44"
      },
      "outputs": [
        {
          "output_type": "execute_result",
          "data": {
            "text/plain": [
              "1      498149\n",
              "2      207956\n",
              "3      223698\n",
              "4      235062\n",
              "5      312636\n",
              "6      409353\n",
              "7      567048\n",
              "8      685214\n",
              "9      591291\n",
              "10    1178243\n",
              "dtype: object"
            ]
          },
          "metadata": {},
          "execution_count": 21
        }
      ],
      "source": [
        "REVIEWS_SUMMERY_PER_FILE.sum().drop(['filename'])"
      ]
    },
    {
      "cell_type": "code",
      "execution_count": 22,
      "metadata": {
        "id": "p5zCxh3TUpls",
        "colab": {
          "base_uri": "https://localhost:8080/"
        },
        "outputId": "3ace8e67-ad9d-452d-d231-c5406c490ecd"
      },
      "outputs": [
        {
          "output_type": "stream",
          "name": "stdout",
          "text": [
            "the maximum size for each class is 207956 records\n"
          ]
        }
      ],
      "source": [
        "min_class_size = REVIEWS_SUMMERY_PER_FILE.sum().drop(['filename']).min()\n",
        "print(f'the maximum size for each class is {min_class_size} records')\n"
      ]
    },
    {
      "cell_type": "markdown",
      "source": [
        "#dataset generator"
      ],
      "metadata": {
        "id": "lUobhJH7nrNe"
      }
    },
    {
      "cell_type": "code",
      "execution_count": 25,
      "metadata": {
        "id": "h1QEXllyFujA"
      },
      "outputs": [],
      "source": [
        "def sample_generator(train_val_or_test, min_class_size):\n",
        "  random.seed(11)\n",
        "  list_files = ['part-01.json','part-02.json','part-03.json','part-04.json','part-05.json','part-06.json']\n",
        "  # list_files = ['part-01.json']\n",
        "  weights_dict = {b'train':0.7,b'val':0.15,b'test':0.15}\n",
        "  rating_coverter = {0:0,1:0,2:0,\n",
        "                     3:1,4:1,5:1,6:1,\n",
        "                     7:2,8:2,9:2}\n",
        "  max_records_per_class = math.floor(min_class_size * weights_dict[train_val_or_test])  ### to make balanced datasets\n",
        "  class_records = {x:0 for x in range(10)}\n",
        "\n",
        "  for filename in list_files:\n",
        "    df=pd.read_json(filename, lines=True, chunksize=100000)\n",
        "    for batch_details in df:\n",
        "      for index, row_details in batch_details.iterrows():\n",
        "        dataset_type = random.choices(list(weights_dict.keys()), weights=list(weights_dict.values()), k=1)\n",
        "        if train_val_or_test == dataset_type[0]:\n",
        "          review = str(row_details['review_summary']) + ' ' + str(row_details['review_detail'])\n",
        "          rating = row_details['rating'] - 1\n",
        "          # rating = round(row_details['rating']) - 1.          ##### for 10 classes\n",
        "          # rating = round((row_details['rating'] - 1)/2).      ##### for 5 classes\n",
        "          rating_conv = rating_coverter[rating]                 ##### for 3 classes\n",
        "\n",
        "          if class_records[rating] < max_records_per_class: ### limit class records to make balanced datasets\n",
        "            class_records[rating] += 1\n",
        "            # yield (review,), rating\n",
        "            yield review, rating_conv\n"
      ]
    },
    {
      "cell_type": "code",
      "execution_count": 26,
      "metadata": {
        "id": "2sH-Vo1ihnzb"
      },
      "outputs": [],
      "source": [
        "# smpl_gen = sample_generator('train'.encode('utf-8'),min_class_size)"
      ]
    },
    {
      "cell_type": "code",
      "execution_count": 27,
      "metadata": {
        "id": "DYn7xkWXhyoG"
      },
      "outputs": [],
      "source": [
        "# for i in range(5):\n",
        "#   print(next(smpl_gen))"
      ]
    },
    {
      "cell_type": "code",
      "execution_count": 28,
      "metadata": {
        "id": "P3UaBTVzBkhL"
      },
      "outputs": [],
      "source": [
        "# smpl_gen = sample_generator('val'.encode('utf-8'))"
      ]
    },
    {
      "cell_type": "code",
      "execution_count": 29,
      "metadata": {
        "id": "yAwF5CMg_fbx"
      },
      "outputs": [],
      "source": [
        "# print(next(smpl_gen)[0])"
      ]
    },
    {
      "cell_type": "code",
      "execution_count": 30,
      "metadata": {
        "id": "Ew09n_0BjGQA"
      },
      "outputs": [],
      "source": [
        "raw_train_ds =  tf.data.Dataset.from_generator(sample_generator,\n",
        "                                              #  output_types=(tf.string, tf.int64),\n",
        "                                              #  output_shapes=(tf.TensorShape(None), tf.TensorShape(None)),\n",
        "                                               output_signature=(\n",
        "                                                   tf.TensorSpec(shape=(), dtype=tf.string),\n",
        "                                                   tf.TensorSpec(shape=(), dtype=tf.int64)\n",
        "                                               ),\n",
        "                                               args = (['train', min_class_size]))\n",
        "\n",
        "raw_val_ds =  tf.data.Dataset.from_generator(sample_generator,\n",
        "                                              #  output_types=(tf.string, tf.int64),\n",
        "                                              #  output_shapes=(tf.TensorShape(None), tf.TensorShape(None)),\n",
        "                                               output_signature=(\n",
        "                                                   tf.TensorSpec(shape=(), dtype=tf.string),\n",
        "                                                   tf.TensorSpec(shape=(), dtype=tf.int64)\n",
        "                                               ),\n",
        "                                               args = (['val', min_class_size]))\n",
        "\n",
        "raw_test_ds =  tf.data.Dataset.from_generator(sample_generator,\n",
        "                                              #  output_types=(tf.string, tf.int64),\n",
        "                                              #  output_shapes=(tf.TensorShape(None), tf.TensorShape(None)),\n",
        "                                               output_signature=(\n",
        "                                                   tf.TensorSpec(shape=(), dtype=tf.string),\n",
        "                                                   tf.TensorSpec(shape=(), dtype=tf.int64)\n",
        "                                               ),\n",
        "                                               args = (['test', min_class_size]))"
      ]
    },
    {
      "cell_type": "code",
      "execution_count": 31,
      "metadata": {
        "id": "6jpfvJnjo99q"
      },
      "outputs": [],
      "source": [
        "# batch_size = 32\n",
        "batch_size = 1024\n",
        "\n",
        "raw_train_ds = raw_train_ds.batch(batch_size)\n",
        "raw_val_ds = raw_val_ds.batch(batch_size)\n",
        "raw_test_ds = raw_test_ds.batch(batch_size)\n"
      ]
    },
    {
      "cell_type": "code",
      "execution_count": 32,
      "metadata": {
        "id": "KL8ypoHYTsYx"
      },
      "outputs": [],
      "source": [
        "AUTOTUNE = tf.data.AUTOTUNE\n",
        "\n",
        "raw_train_ds = raw_train_ds.cache().prefetch(buffer_size=AUTOTUNE)\n",
        "raw_val_ds = raw_val_ds.cache().prefetch(buffer_size=AUTOTUNE)\n",
        "raw_test_ds = raw_test_ds.cache().prefetch(buffer_size=AUTOTUNE)"
      ]
    },
    {
      "cell_type": "code",
      "execution_count": 33,
      "metadata": {
        "id": "RS3yU56IQn_Y",
        "colab": {
          "base_uri": "https://localhost:8080/"
        },
        "outputId": "96b6ca07-bb50-4442-c0ea-6337f835cc8a"
      },
      "outputs": [
        {
          "output_type": "execute_result",
          "data": {
            "text/plain": [
              "tensorflow.python.data.ops.dataset_ops.PrefetchDataset"
            ]
          },
          "metadata": {},
          "execution_count": 33
        }
      ],
      "source": [
        "type(raw_test_ds)"
      ]
    },
    {
      "cell_type": "code",
      "execution_count": 34,
      "metadata": {
        "id": "OR16oqku8UfU",
        "colab": {
          "base_uri": "https://localhost:8080/"
        },
        "outputId": "8ee9bf60-0a72-4d25-c54c-b2eed00835a3"
      },
      "outputs": [
        {
          "output_type": "stream",
          "name": "stdout",
          "text": [
            "Review b\"Very Strong Season 2 I enjoyed the first season, but I must say I think season 2 is even stronger. Ricky does a great job as both writer, actor and director and brings out the best in a superb supporting cast. If there was one thing I'd change, I'd like to hear him talk about himself less with other people and speak more in the third person, but other than that it's pretty hard to fault this funny yet emotional comedy.\"\n",
            "Label 2\n",
            "Review b'Icelandic detectives? I know Iceland is a small country and police do things a bit different in Europe but c\\'mon... The incompetent police work robs this show of any believability.\\n1st Detective: \"hey we got two persons of interest we need to talk with and one of them could possibly be the serial killer, which one should we visit first?\"\\n2nd Detective: \"lets split up!\"'\n",
            "Label 1\n",
            "Review b\"Good but I'm guessing that as a 62 year old white woman I'm not the target demographic but I enjoyed this show. Good to see others perspectives and loved the wry humor. More entertaining than The Office and Parks & Rec. It does make broad negative assumptions about all whites though\"\n",
            "Label 2\n"
          ]
        }
      ],
      "source": [
        "for text_batch, label_batch in raw_train_ds.take(1):\n",
        "  for i in range(3):\n",
        "    print(\"Review\", text_batch.numpy()[i])\n",
        "    print(\"Label\", label_batch.numpy()[i])"
      ]
    },
    {
      "cell_type": "markdown",
      "source": [
        "## analysis the lengths of texts (counts words) - skip to reload model from disk"
      ],
      "metadata": {
        "id": "tuBrTMxLpmSV"
      }
    },
    {
      "cell_type": "code",
      "execution_count": 46,
      "metadata": {
        "id": "LsAqalPFDhaA"
      },
      "outputs": [],
      "source": [
        "lens = []\n",
        "for text_batch, label_batch in raw_train_ds.take(100):  # for analytics, 1024 * 100 = 102,400 records\n",
        "  for i in text_batch:\n",
        "    lens += [len(i.numpy().split())]\n"
      ]
    },
    {
      "cell_type": "code",
      "source": [
        "sns.histplot(lens)"
      ],
      "metadata": {
        "colab": {
          "base_uri": "https://localhost:8080/",
          "height": 283
        },
        "id": "uNIVDE03qUTh",
        "outputId": "53e8c41c-b0da-42df-fd00-e87476fc4898"
      },
      "execution_count": 47,
      "outputs": [
        {
          "output_type": "execute_result",
          "data": {
            "text/plain": [
              "<matplotlib.axes._subplots.AxesSubplot at 0x7f75c7c3e390>"
            ]
          },
          "metadata": {},
          "execution_count": 47
        },
        {
          "output_type": "display_data",
          "data": {
            "text/plain": [
              "<Figure size 432x288 with 1 Axes>"
            ],
            "image/png": "[encoded data removed]"
          },
          "metadata": {
            "needs_background": "light"
          }
        }
      ]
    },
    {
      "cell_type": "markdown",
      "source": [
        "#the model"
      ],
      "metadata": {
        "id": "fd3ZIGGjoORM"
      }
    },
    {
      "cell_type": "markdown",
      "source": [
        "##create vectorizer"
      ],
      "metadata": {
        "id": "_yC6xFT4oQwT"
      }
    },
    {
      "cell_type": "code",
      "execution_count": 52,
      "metadata": {
        "id": "SDRI_s_tX1Hk"
      },
      "outputs": [],
      "source": [
        "def custom_standardization(input_data):\n",
        "  data = tf.strings.lower(input_data)\n",
        "  data = tf.strings.regex_replace(data, '<br />', ' ')\n",
        "  for i in stopwords.words('english'):\n",
        "    data = tf.strings.regex_replace(data, r'\\b{}\\b'.format(i), '')\n",
        "  return tf.strings.regex_replace(data,\n",
        "                                  '[%s]' % re.escape(string.punctuation),\n",
        "                                  '')"
      ]
    },
    {
      "cell_type": "code",
      "execution_count": 52,
      "metadata": {
        "id": "VTGc4aNWBDZg"
      },
      "outputs": [],
      "source": [
        ""
      ]
    },
    {
      "cell_type": "code",
      "execution_count": 53,
      "metadata": {
        "id": "J-5B4p8yYW2H",
        "colab": {
          "base_uri": "https://localhost:8080/"
        },
        "outputId": "f3d446c4-55af-42eb-aca5-f93c447587e3"
      },
      "outputs": [
        {
          "output_type": "execute_result",
          "data": {
            "text/plain": [
              "<PrefetchDataset element_spec=TensorSpec(shape=(None,), dtype=tf.string, name=None)>"
            ]
          },
          "metadata": {},
          "execution_count": 53
        }
      ],
      "source": [
        "# Make a text-only dataset (without labels), then call adapt to make vocabulary\n",
        "train_text = raw_train_ds.map(lambda x, y: x)\n",
        "train_text.cache().prefetch(buffer_size=AUTOTUNE)\n",
        "# type(train_text)\n",
        "# type(raw_train_ds)"
      ]
    },
    {
      "cell_type": "code",
      "execution_count": 54,
      "metadata": {
        "id": "bxCUtytQrUK3",
        "colab": {
          "base_uri": "https://localhost:8080/"
        },
        "outputId": "e7f24791-6ad4-41ac-98bf-6b198eb69a09"
      },
      "outputs": [
        {
          "output_type": "stream",
          "name": "stdout",
          "text": [
            "Review b\"Very Strong Season 2 I enjoyed the first season, but I must say I think season 2 is even stronger. Ricky does a great job as both writer, actor and director and brings out the best in a superb supporting cast. If there was one thing I'd change, I'd like to hear him talk about himself less with other people and speak more in the third person, but other than that it's pretty hard to fault this funny yet emotional comedy.\"\n",
            "Review b'Icelandic detectives? I know Iceland is a small country and police do things a bit different in Europe but c\\'mon... The incompetent police work robs this show of any believability.\\n1st Detective: \"hey we got two persons of interest we need to talk with and one of them could possibly be the serial killer, which one should we visit first?\"\\n2nd Detective: \"lets split up!\"'\n",
            "Review b\"Good but I'm guessing that as a 62 year old white woman I'm not the target demographic but I enjoyed this show. Good to see others perspectives and loved the wry humor. More entertaining than The Office and Parks & Rec. It does make broad negative assumptions about all whites though\"\n",
            "Review b\"An honest review Here's the truth. There's not much to this movie at all. I was sucked in by the high rating and overly positive reviews that must have submitted by cast and film crew. I won't give a technical analysis like an ameteur movie critic, just my sincere opinion.The Droving was annoying from the jump due to not being able to hear the opening dialogue over the ambient sounds. At times it was so difficult to hear what was being said, I had to turn on the caption. I knew after that The Droving was starting with a negative balance and really good things had to happen moving forward to win me over.Film is beautiful with many nature scenes. It does not appear to be low budget from that standpoint. It also has a decent pace, so I didn't fall asleep (I was close on occasions). With those things being stated, cinematographer and pace could not save this film and rightfully so!Where the Droving falls apart, is with the story, in my humble opinion. The premise is interesting but the story is not well developed. The main character is almost as much as a mystery as the movie's story itself. The climax is very anticlimactic and evolves rapidly to an abrupt ending that left me scratching my head.Finally, there are worse movies out there than The Droving. It had potential to be a good watch, but missed the mark majorly with story and character development. Background sound made it difficult at times to hear dialogue and ending was a total letdown; making it a film that can be bypassed for most other movie options.\"\n",
            "Review b\"Amazing Having seen this film for the first time today, 70 years after its release and still having the impact that it has is outstanding. Excellent writing, directing and performances all around, particularly by Bette Davis and Anne Baxter in their respective immortal roles, as well as unpredictable and filled with complex characters and relationships, All About Eve is one of the best movies I have ever seen.As I got about halfway through the movie, I thought it was about how jealousy and resentment can drive the people away from you. But it's not. It's a movie about manipulation and how horrible people can con people into getting what they want. It's such a great film.\"\n"
          ]
        }
      ],
      "source": [
        "for text_batch in train_text.take(1):\n",
        "  for i in range(5):\n",
        "    print(\"Review\", text_batch.numpy()[i])\n",
        "#     print(\"Label\", label_batch.numpy()[i])\n",
        "\n"
      ]
    },
    {
      "cell_type": "code",
      "execution_count": 55,
      "metadata": {
        "id": "68dzKnxlqzk7"
      },
      "outputs": [],
      "source": [
        "def make_vectorize_layer(max_features, sequence_length):\n",
        "\n",
        "    vectorize_layer = layers.TextVectorization(\n",
        "    standardize='lower_and_strip_punctuation',\n",
        "    # standardize=custom_standardization,\n",
        "    max_tokens=max_features, #vocabulary size\n",
        "    output_mode='int',\n",
        "    output_sequence_length=sequence_length)\n",
        "\n",
        "    vectorize_layer.adapt(train_text)\n",
        "\n",
        "    # Pickle the config and weights\n",
        "    file = open(f'ds7718-final_project/checkpoints/vectorization layer/vect_layer_fetures{max_features}_seq{sequence_length}.obj', 'wb') \n",
        "    pickle.dump({'config': vectorize_layer.get_config(),\n",
        "                'weights': vectorize_layer.get_weights()}\n",
        "                , file )\n",
        "\n",
        "    return vectorize_layer\n"
      ]
    },
    {
      "cell_type": "code",
      "execution_count": 56,
      "metadata": {
        "id": "AFo2AGc2BW1W"
      },
      "outputs": [],
      "source": [
        "def load_vectorize_layer(max_features, sequence_length):\n",
        "  from_disk =  pickle.load(open(f'ds7718-final_project/checkpoints/vectorization layer/vect_layer_fetures{max_features}_seq{sequence_length}.obj', 'rb') )\n",
        "  new_vectorize_layer = layers.TextVectorization.from_config(from_disk['config'])\n",
        "  # You have to call `adapt` with some dummy data (BUG in Keras)\n",
        "  # new_v.adapt(tf.data.Dataset.from_tensor_slices([\"xyz\"]))\n",
        "  new_vectorize_layer.set_weights(from_disk['weights'])\n",
        "\n",
        "  return new_vectorize_layer\n"
      ]
    },
    {
      "cell_type": "code",
      "execution_count": 57,
      "metadata": {
        "id": "v7i0LL4iuEtl"
      },
      "outputs": [],
      "source": [
        "# started from:\n",
        "# max_features = 10000\n",
        "# sequence_length = 250\n",
        "\n",
        "# finised with\n",
        "max_features = 10000\n",
        "sequence_length = 400"
      ]
    },
    {
      "cell_type": "code",
      "execution_count": 58,
      "metadata": {
        "id": "SLhFJlyyBbyS"
      },
      "outputs": [],
      "source": [
        "# vectorize_layer = make_vectorize_layer(max_features, sequence_length)"
      ]
    },
    {
      "cell_type": "code",
      "execution_count": 59,
      "metadata": {
        "id": "nTmJ1ryjt5f6"
      },
      "outputs": [],
      "source": [
        "vectorize_layer = load_vectorize_layer(max_features, sequence_length)"
      ]
    },
    {
      "cell_type": "code",
      "execution_count": 60,
      "metadata": {
        "id": "s6MynVZzBDUh"
      },
      "outputs": [],
      "source": [
        "def vectorize_text(text, label):\n",
        "  text = tf.expand_dims(text, -1)\n",
        "  return vectorize_layer(text), label\n"
      ]
    },
    {
      "cell_type": "code",
      "execution_count": 61,
      "metadata": {
        "id": "9VPZBLQSBDRy",
        "colab": {
          "base_uri": "https://localhost:8080/"
        },
        "outputId": "75daf7d9-fe89-4701-f9df-8dd2df519a34"
      },
      "outputs": [
        {
          "output_type": "execute_result",
          "data": {
            "text/plain": [
              "['', '[UNK]', 'the', 'and', 'a']"
            ]
          },
          "metadata": {},
          "execution_count": 61
        }
      ],
      "source": [
        "vectorize_layer.get_vocabulary()[:5]"
      ]
    },
    {
      "cell_type": "code",
      "execution_count": 62,
      "metadata": {
        "id": "IrayPkzRRZ1Z"
      },
      "outputs": [],
      "source": [
        "train_ds = raw_train_ds.map(vectorize_text)\n",
        "val_ds = raw_val_ds.map(vectorize_text)\n",
        "test_ds = raw_test_ds.map(vectorize_text)"
      ]
    },
    {
      "cell_type": "code",
      "execution_count": 63,
      "metadata": {
        "id": "yhUnFeIg-ojU"
      },
      "outputs": [],
      "source": [
        "# for text_batch, label_batch in train_ds.take(1):\n",
        "#   for i in range(3):\n",
        "#     print(\"Review\", text_batch.numpy()[i])\n",
        "#     print(\"Label\", label_batch.numpy()[i])\n"
      ]
    },
    {
      "cell_type": "code",
      "execution_count": 64,
      "metadata": {
        "id": "SgUOPcWQBDON"
      },
      "outputs": [],
      "source": [
        "AUTOTUNE = tf.data.AUTOTUNE\n",
        "\n",
        "train_ds = train_ds.cache().prefetch(buffer_size=AUTOTUNE)\n",
        "val_ds = val_ds.cache().prefetch(buffer_size=AUTOTUNE)\n",
        "test_ds = test_ds.cache().prefetch(buffer_size=AUTOTUNE)"
      ]
    },
    {
      "cell_type": "markdown",
      "source": [
        "##create the model - skip to reload model from disk"
      ],
      "metadata": {
        "id": "PBI-cyc6qLBH"
      }
    },
    {
      "cell_type": "code",
      "execution_count": 62,
      "metadata": {
        "id": "dBVyTczQGgLz"
      },
      "outputs": [],
      "source": [
        "embedding_dim = 16\n",
        "# embedding_dim = 64"
      ]
    },
    {
      "cell_type": "code",
      "execution_count": 49,
      "metadata": {
        "id": "DIktVIjvGgMA",
        "colab": {
          "base_uri": "https://localhost:8080/"
        },
        "outputId": "56f9446d-7601-4d6b-9e90-d8f1aac61937"
      },
      "outputs": [
        {
          "output_type": "stream",
          "name": "stdout",
          "text": [
            "Model: \"sequential\"\n",
            "_________________________________________________________________\n",
            " Layer (type)                Output Shape              Param #   \n",
            "=================================================================\n",
            " embedding (Embedding)       (None, None, 16)          160000    \n",
            "                                                                 \n",
            " dropout (Dropout)           (None, None, 16)          0         \n",
            "                                                                 \n",
            " global_average_pooling1d (G  (None, 16)               0         \n",
            " lobalAveragePooling1D)                                          \n",
            "                                                                 \n",
            " dense (Dense)               (None, 3)                 51        \n",
            "                                                                 \n",
            "=================================================================\n",
            "Total params: 160,051\n",
            "Trainable params: 160,051\n",
            "Non-trainable params: 0\n",
            "_________________________________________________________________\n"
          ]
        }
      ],
      "source": [
        "model = tf.keras.Sequential([\n",
        "  layers.Embedding(max_features , embedding_dim),\n",
        "  layers.Dropout(0.2),\n",
        "  layers.GlobalAveragePooling1D(),\n",
        "    \n",
        "  # layers.Dense(10, activation='softmax')])\n",
        "  layers.Dense(3, activation='softmax')])\n",
        "\n",
        "model.summary()\n",
        "# (1000, 250, 16)\n",
        "# (1000, 16)\n",
        "\n",
        "\n",
        "# kernel_regularizer=tf.keras.regularizers.l2(0.01)),"
      ]
    },
    {
      "cell_type": "code",
      "execution_count": 50,
      "metadata": {
        "id": "kUbTBGs08PXT",
        "colab": {
          "base_uri": "https://localhost:8080/",
          "height": 466
        },
        "outputId": "bd61d467-357f-44a1-fe8c-f994d8db62f6"
      },
      "outputs": [
        {
          "output_type": "execute_result",
          "data": {
            "text/plain": [
              "<IPython.core.display.Image object>"
            ],
            "image/png": "[encoded data removed]"
          },
          "metadata": {},
          "execution_count": 50
        }
      ],
      "source": [
        "tf.keras.utils.plot_model(model)"
      ]
    },
    {
      "cell_type": "markdown",
      "metadata": {
        "id": "L4EqVWg4-llM"
      },
      "source": [
        "## Loss function and optimizer - skip to reload model from disk\n",
        "\n",
        "A model needs a loss function and an optimizer for training. Since this is a sparse classification problem and the model outputs a probability (a multi-unit layer with a softmax activation), you'll use `losses.SparseCategoricalCrossentropy` loss function.\n",
        "\n",
        "Now, configure the model to use an optimizer and a loss function:"
      ]
    },
    {
      "cell_type": "code",
      "execution_count": 51,
      "metadata": {
        "id": "oAfoF1c2GgMB"
      },
      "outputs": [],
      "source": [
        "# with:\n",
        "# max_features = 10000\n",
        "# sequence_length = 250\n",
        "\n",
        "##### w/o LearningRateScheduler:\n",
        "\n",
        "# optimizer='adam'                                                     ### val_loss: 1.6452 - val_accuracy: 0.4197\n",
        "\n",
        "# optimizer='adadelta'                                                 ### val_loss: 1.0903 - val_accuracy: 0.4005\n",
        "\n",
        "# optimizer = tf.keras.optimizers.SGD(lr=0.01)                         ### val_loss: 1.2457 - val_accuracy: 0.3715\n",
        "\n",
        "## This implementation of RMSprop uses plain momentum, not Nesterov momentum.\n",
        "## The centered version additionally maintains a moving average of the gradients, and uses that average to estimate the variance.\n",
        "# optimizer=tf.keras.optimizers.RMSprop(learning_rate=1e-4)            ### val_loss: 0.8589 - val_accuracy: 0.6008\n",
        "\n",
        "\n",
        "\n",
        "##### with LearningRateScheduler:\n",
        "\n",
        "optimizer='adam'                                                     ### val_loss: 0.6714 - val_accuracy: 0.7149\n",
        "\n",
        "# optimizer='adadelta'                                                 ### val_loss: 1.0936 - val_accuracy: 0.4005\n",
        "\n",
        "# optimizer = tf.keras.optimizers.SGD(lr=0.01)                         ### val_loss: 1.2879 - val_accuracy: 0.3717\n",
        "\n",
        "# optimizer=tf.keras.optimizers.RMSprop(learning_rate=1e-4)            ### val_loss: 0.8255 - val_accuracy: 0.6798\n",
        "\n",
        "\n",
        "\n",
        "\n",
        "\n",
        "\n",
        "\n",
        "model.compile(loss=losses.SparseCategoricalCrossentropy(),\n",
        "              optimizer=optimizer,\n",
        "              metrics=[\"accuracy\"])\n"
      ]
    },
    {
      "cell_type": "markdown",
      "metadata": {
        "id": "35jv_fzP-llU"
      },
      "source": [
        "## Train the model - skip to reload model from disk\n",
        "\n",
        "You will train the model by passing the `dataset` object to the fit method."
      ]
    },
    {
      "cell_type": "code",
      "source": [
        "def scheduler(epoch, lr):\n",
        "  if epoch < 10:\n",
        "    return lr\n",
        "  else:\n",
        "    return lr * tf.math.exp(-0.1)"
      ],
      "metadata": {
        "id": "rhvM3NgX5Yji"
      },
      "execution_count": 47,
      "outputs": []
    },
    {
      "cell_type": "code",
      "source": [
        "lr_scheduler = tf.keras.callbacks.LearningRateScheduler(scheduler)\n",
        "early_stopping = tf.keras.callbacks.EarlyStopping(verbose=1, patience=2)"
      ],
      "metadata": {
        "id": "wT5Y1CO-8J3x"
      },
      "execution_count": 48,
      "outputs": []
    },
    {
      "cell_type": "code",
      "execution_count": 59,
      "metadata": {
        "id": "NRObgNvurERz",
        "colab": {
          "base_uri": "https://localhost:8080/"
        },
        "outputId": "87a1439a-bc2c-408c-ce43-d604cd2bddb4"
      },
      "outputs": [
        {
          "output_type": "stream",
          "name": "stdout",
          "text": [
            "Epoch 1/100\n",
            "1422/1422 [==============================] - 170s 119ms/step - loss: 0.6571 - accuracy: 0.7237 - val_loss: 0.6647 - val_accuracy: 0.7206 - lr: 1.6616e-06\n",
            "Epoch 2/100\n",
            "1422/1422 [==============================] - 170s 119ms/step - loss: 0.6571 - accuracy: 0.7237 - val_loss: 0.6647 - val_accuracy: 0.7206 - lr: 1.6616e-06\n",
            "Epoch 3/100\n",
            "1422/1422 [==============================] - 169s 119ms/step - loss: 0.6570 - accuracy: 0.7237 - val_loss: 0.6647 - val_accuracy: 0.7206 - lr: 1.6616e-06\n",
            "Epoch 3: early stopping\n"
          ]
        }
      ],
      "source": [
        "epochs = 100\n",
        "history = model.fit(\n",
        "    train_ds,\n",
        "    validation_data=val_ds,\n",
        "    callbacks=[early_stopping\n",
        "               , lr_scheduler\n",
        "               ],\n",
        "    epochs=epochs)"
      ]
    },
    {
      "cell_type": "code",
      "source": [
        "# model_loc = 'ds7718-final_project/checkpoints/models/3-classes/adam_features10000_sequence250_AveragePooling'\n",
        "# model_loc = 'ds7718-final_project/checkpoints/models/3-classes/adadelta_features10000_sequence250_AveragePooling'\n",
        "# model_loc = 'ds7718-final_project/checkpoints/models/3-classes/SGD_features10000_sequence250_AveragePooling'\n",
        "# model_loc = 'ds7718-final_project/checkpoints/models/3-classes/RMSprop_features10000_sequence250_AveragePooling'\n",
        "\n",
        "# model_loc = 'ds7718-final_project/checkpoints/models/3-classes/adam_lr_features10000_sequence250_AveragePooling'. ### best\n",
        "# model_loc = 'ds7718-final_project/checkpoints/models/3-classes/adadelta_lr_features10000_sequence250_AveragePooling'\n",
        "# model_loc = 'ds7718-final_project/checkpoints/models/3-classes/SGD_lr_features10000_sequence250_AveragePooling'\n",
        "# model_loc = 'ds7718-final_project/checkpoints/models/3-classes/RMSprop_lr_features10000_sequence250_AveragePooling'\n",
        "\n"
      ],
      "metadata": {
        "id": "0LdlWfl-j28g"
      },
      "execution_count": null,
      "outputs": []
    },
    {
      "cell_type": "markdown",
      "source": [
        "we choose the adam with learning rate scheduler.\n",
        "\n",
        "val_loss: 0.6714 - val_accuracy: 0.7149\n",
        "\n",
        "now play with features and sequence"
      ],
      "metadata": {
        "id": "k9OryUQnb748"
      }
    },
    {
      "cell_type": "code",
      "source": [
        "# model_loc = 'ds7718-final_project/checkpoints/models/3-classes/adam_lr_features50000_sequence250_AveragePooling'\n",
        "# val_loss: 1.8143 - val_accuracy: 0.3938\n",
        "\n",
        "# model_loc = 'ds7718-final_project/checkpoints/models/3-classes/adam_lr_features5000_sequence250_AveragePooling'\n",
        "# val_loss: 0.6966 - val_accuracy: 0.7013\n",
        "\n",
        "# model_loc = 'ds7718-final_project/checkpoints/models/3-classes/adam_lr_features10000_sequence50_AveragePooling'\n",
        "# val_loss: 0.7314 - val_accuracy: 0.6707\n",
        "\n",
        "model_loc = 'ds7718-final_project/checkpoints/models/3-classes/adam_lr_features10000_sequence400_AveragePooling'\n",
        "#  val_loss: 0.6647 - val_accuracy: 0.7206\n"
      ],
      "metadata": {
        "id": "c1F9seLKbx91"
      },
      "execution_count": 59,
      "outputs": []
    },
    {
      "cell_type": "code",
      "source": [
        "# model.save(model_loc)"
      ],
      "metadata": {
        "id": "NXN17lDQGjLs"
      },
      "execution_count": null,
      "outputs": []
    },
    {
      "cell_type": "markdown",
      "source": [
        "lets play with model parts"
      ],
      "metadata": {
        "id": "pV7dUOLLAleM"
      }
    },
    {
      "cell_type": "code",
      "source": [
        "embedding_dim = 64 # instead of 16"
      ],
      "metadata": {
        "id": "xEeOOKUiFtr6"
      },
      "execution_count": 49,
      "outputs": []
    },
    {
      "cell_type": "code",
      "execution_count": null,
      "metadata": {
        "id": "9WmlWR4vGIH5"
      },
      "outputs": [],
      "source": [
        "model = tf.keras.Sequential([\n",
        "  layers.Embedding(max_features , embedding_dim),\n",
        "  layers.Dropout(0.2),\n",
        "  layers.GlobalAveragePooling1D(),\n",
        "  \n",
        "  layers.Dense(3, activation='softmax')])\n",
        "\n",
        "model.summary()"
      ]
    },
    {
      "cell_type": "code",
      "execution_count": 53,
      "metadata": {
        "id": "iWROcfrTGIII"
      },
      "outputs": [],
      "source": [
        "\n",
        "optimizer='adam'                \n",
        "\n",
        "model.compile(loss=losses.SparseCategoricalCrossentropy(),\n",
        "              optimizer=optimizer,\n",
        "              metrics=[\"accuracy\"])\n"
      ]
    },
    {
      "cell_type": "code",
      "execution_count": null,
      "metadata": {
        "id": "nvihukL6GIIJ"
      },
      "outputs": [],
      "source": [
        "epochs = 100\n",
        "history = model.fit(\n",
        "    train_ds,\n",
        "    validation_data=val_ds,\n",
        "    callbacks=[early_stopping\n",
        "               , lr_scheduler\n",
        "               ],\n",
        "    epochs=epochs)"
      ]
    },
    {
      "cell_type": "code",
      "source": [
        "# model_loc = 'ds7718-final_project/checkpoints/models/3-classes/embedding_64_adam_lr_features10000_sequence400_AveragePooling'\n",
        "# val_loss: 0.6646 - val_accuracy: 0.7206"
      ],
      "metadata": {
        "id": "2zDHskhRFtd9"
      },
      "execution_count": 57,
      "outputs": []
    },
    {
      "cell_type": "code",
      "source": [
        ""
      ],
      "metadata": {
        "id": "kV-ELm23FtOJ"
      },
      "execution_count": null,
      "outputs": []
    },
    {
      "cell_type": "code",
      "source": [
        "# model.save(model_loc)"
      ],
      "metadata": {
        "id": "OV9Fz13AjLL1",
        "colab": {
          "base_uri": "https://localhost:8080/"
        },
        "outputId": "d8d148d5-36ac-4ef1-d868-aecd393918fa"
      },
      "execution_count": 56,
      "outputs": [
        {
          "output_type": "stream",
          "name": "stdout",
          "text": [
            "INFO:tensorflow:Assets written to: ds7718-final_project/checkpoints/models/3-classes/embedding_64_adam_lr_features10000_sequence400_AveragePooling_/assets\n"
          ]
        }
      ]
    },
    {
      "cell_type": "markdown",
      "metadata": {
        "id": "9EEGuDVuzb5r"
      },
      "source": [
        "## Evaluate the model - skip to reload model from disk\n",
        "\n",
        "Let's see how the model performs. Two values will be returned. Loss (a number which represents our error, lower values are better), and accuracy."
      ]
    },
    {
      "cell_type": "code",
      "execution_count": 58,
      "metadata": {
        "id": "brSBBlmtGgMB",
        "colab": {
          "base_uri": "https://localhost:8080/"
        },
        "outputId": "82e908f1-ba64-499e-8621-a2f5fd262414"
      },
      "outputs": [
        {
          "output_type": "stream",
          "name": "stdout",
          "text": [
            "305/305 [==============================] - 422s 1s/step - loss: 0.6645 - accuracy: 0.7209\n",
            "Loss:  0.6645269989967346\n",
            "Accuracy:  0.7208604216575623\n"
          ]
        }
      ],
      "source": [
        "loss, accuracy = model.evaluate(test_ds)\n",
        "\n",
        "print(\"Loss: \", loss)\n",
        "print(\"Accuracy: \", accuracy)"
      ]
    },
    {
      "cell_type": "markdown",
      "source": [
        "## Load the chosen model from disk"
      ],
      "metadata": {
        "id": "PKNyijhLnA7M"
      }
    },
    {
      "cell_type": "code",
      "source": [
        "model_loc = 'ds7718-final_project/checkpoints/models/3-classes/adam_lr_features10000_sequence400_AveragePooling'\n",
        "model = keras.models.load_model(model_loc)"
      ],
      "metadata": {
        "id": "d_DNcAKonBSE"
      },
      "execution_count": 50,
      "outputs": []
    },
    {
      "cell_type": "markdown",
      "metadata": {
        "id": "RmXQoqGrBePm"
      },
      "source": [
        "## Build an export model"
      ]
    },
    {
      "cell_type": "code",
      "execution_count": 65,
      "metadata": {
        "id": "n_pHNLu0ia8z"
      },
      "outputs": [],
      "source": [
        "export_model = tf.keras.Sequential([\n",
        "  vectorize_layer,\n",
        "  model,\n",
        "  layers.Lambda(lambda x: tf.keras.backend.cast(tf.keras.backend.argmax(x), dtype='int32'))\n",
        "])\n"
      ]
    },
    {
      "cell_type": "code",
      "execution_count": 66,
      "metadata": {
        "id": "fp0xrPHVpPWl"
      },
      "outputs": [],
      "source": [
        "export_model.compile(loss=losses.SparseCategoricalCrossentropy(),\n",
        "              optimizer='adam',\n",
        "              metrics=tf.metrics.SparseCategoricalAccuracy())"
      ]
    },
    {
      "cell_type": "code",
      "execution_count": null,
      "metadata": {
        "id": "V16I81vGia69"
      },
      "outputs": [],
      "source": [
        "# export_model.predict(b'the movie was great the movie was great the movie was great the movie was great the movie was great the movie was great the movie was great the movie was great the movie was great the movie was great the movie was great the movie was great the movie was great the movie was great the movie was great the movie was great the movie was great the movie was great the movie was great the movie was great the movie was great the movie was great the movie was great the movie was great the movie was great the movie was great the movie was great the movie was great the movie was great the movie was great the movie was great the movie was great the movie was great the movie was great the movie was great the movie was great the movie was great the movie was great the movie was great the movie was great the movie was great the movie was great the movie was great the movie was great the movie was great the movie was great the movie was great the movie was great the movie was great the movie was great the movie was great the movie was great the movie was great the movie was great the movie was great the movie was great the movie was great the movie was great the movie was great ')"
      ]
    },
    {
      "cell_type": "markdown",
      "source": [
        "check some examples"
      ],
      "metadata": {
        "id": "HTayXZggvhVb"
      }
    },
    {
      "cell_type": "code",
      "execution_count": 67,
      "metadata": {
        "colab": {
          "base_uri": "https://localhost:8080/"
        },
        "id": "Ukm7pgU3ia3F",
        "outputId": "404f3f22-82b7-4df7-a776-ffdfa868ca3d"
      },
      "outputs": [
        {
          "output_type": "execute_result",
          "data": {
            "text/plain": [
              "2"
            ]
          },
          "metadata": {},
          "execution_count": 67
        }
      ],
      "source": [
        "export_model.predict((b'the movie was really good! I would recommend this movie to all my friends',))[0]"
      ]
    },
    {
      "cell_type": "code",
      "execution_count": 65,
      "metadata": {
        "colab": {
          "base_uri": "https://localhost:8080/"
        },
        "id": "1x4U34akS_iq",
        "outputId": "b1ecc7ad-47ca-4c86-c581-75fe0c7f7f88"
      },
      "outputs": [
        {
          "output_type": "execute_result",
          "data": {
            "text/plain": [
              "1"
            ]
          },
          "metadata": {},
          "execution_count": 65
        }
      ],
      "source": [
        "export_model.predict((b'the movie was just ok, i will not see it again',))[0]"
      ]
    },
    {
      "cell_type": "code",
      "execution_count": 67,
      "metadata": {
        "colab": {
          "base_uri": "https://localhost:8080/"
        },
        "id": "qzLFlXGNiapo",
        "outputId": "f7abf82b-37e8-4038-c128-57a7160a262c"
      },
      "outputs": [
        {
          "output_type": "execute_result",
          "data": {
            "text/plain": [
              "0"
            ]
          },
          "metadata": {},
          "execution_count": 67
        }
      ],
      "source": [
        "export_model.predict((b'the movie was the worse movie ever!',))[0]"
      ]
    },
    {
      "cell_type": "markdown",
      "source": [
        "##confusion matrix"
      ],
      "metadata": {
        "id": "lC756HKlA63q"
      }
    },
    {
      "cell_type": "markdown",
      "source": [
        "Compute confusion matrix to evaluate the accuracy of a classification"
      ],
      "metadata": {
        "id": "yZ0hg_jSu-oo"
      }
    },
    {
      "cell_type": "code",
      "execution_count": 76,
      "metadata": {
        "id": "5wnbYDKbBC8Y"
      },
      "outputs": [],
      "source": [
        "y_pred = []\n",
        "y_test = []\n",
        "for text_batch, label_batch in raw_test_ds.take(1):  # for analytics, 1024 records\n",
        "  for i in range(batch_size):\n",
        "    y_pred.append(export_model.predict((text_batch.numpy()[i],))[0])\n",
        "    y_test.append(label_batch.numpy()[i])\n",
        "\n",
        "\n"
      ]
    },
    {
      "cell_type": "code",
      "execution_count": 77,
      "metadata": {
        "colab": {
          "base_uri": "https://localhost:8080/"
        },
        "id": "6aDrN7d40X0x",
        "outputId": "e8bddd62-070c-420c-8e46-11f174ea506c"
      },
      "outputs": [
        {
          "output_type": "execute_result",
          "data": {
            "text/plain": [
              "[0, 1, 2]"
            ]
          },
          "metadata": {},
          "execution_count": 77
        }
      ],
      "source": [
        "y_labels = [0,1,2]\n",
        "y_labels.sort()\n",
        "y_labels"
      ]
    },
    {
      "cell_type": "code",
      "execution_count": 78,
      "metadata": {
        "colab": {
          "base_uri": "https://localhost:8080/",
          "height": 606
        },
        "id": "8pr7fTOpvoPC",
        "outputId": "244db8e6-f763-4682-ae51-aa2448b81754"
      },
      "outputs": [
        {
          "output_type": "display_data",
          "data": {
            "text/plain": [
              "<Figure size 720x720 with 2 Axes>"
            ],
            "image/png": "[encoded data removed]"
          },
          "metadata": {
            "needs_background": "light"
          }
        }
      ],
      "source": [
        "conf_mat = confusion_matrix(y_test, y_pred)\n",
        "fig, ax = plt.subplots(figsize=(10,10))\n",
        "sns.heatmap(conf_mat, annot=True, fmt='d',\n",
        "            xticklabels=y_labels, yticklabels=y_labels)\n",
        "plt.ylabel('Actual')\n",
        "plt.xlabel('Predicted')\n",
        "plt.show()\n",
        "\n",
        "# we can see that predict is mostly near the actual"
      ]
    },
    {
      "cell_type": "markdown",
      "source": [
        "##some example for mistaking"
      ],
      "metadata": {
        "id": "ldiGx4chBEPf"
      }
    },
    {
      "cell_type": "code",
      "source": [
        "y_pred_np = np.array(y_pred) \n",
        "y_pred_np"
      ],
      "metadata": {
        "id": "NcuYILYWCV7V",
        "colab": {
          "base_uri": "https://localhost:8080/"
        },
        "outputId": "7a6d1b9b-5bf0-443c-b514-a5d3a08d3024"
      },
      "execution_count": 84,
      "outputs": [
        {
          "output_type": "execute_result",
          "data": {
            "text/plain": [
              "array([0, 1, 0, ..., 2, 0, 1], dtype=int32)"
            ]
          },
          "metadata": {},
          "execution_count": 84
        }
      ]
    },
    {
      "cell_type": "code",
      "source": [
        "y_test_np = np.array(y_test)\n",
        "y_test_np"
      ],
      "metadata": {
        "id": "8aqq19EFCV3e",
        "colab": {
          "base_uri": "https://localhost:8080/"
        },
        "outputId": "1770c373-f109-43f4-ddd5-0f6590d5ee73"
      },
      "execution_count": 85,
      "outputs": [
        {
          "output_type": "execute_result",
          "data": {
            "text/plain": [
              "array([1, 2, 1, ..., 2, 0, 1])"
            ]
          },
          "metadata": {},
          "execution_count": 85
        }
      ]
    },
    {
      "cell_type": "markdown",
      "source": [
        "check missed predictions"
      ],
      "metadata": {
        "id": "c-M21yrfAxZC"
      }
    },
    {
      "cell_type": "code",
      "source": [
        "mask = np.logical_and(y_test_np == 0, y_pred_np == 2)"
      ],
      "metadata": {
        "id": "zvOmGBn6_kvs"
      },
      "execution_count": 86,
      "outputs": []
    },
    {
      "cell_type": "code",
      "execution_count": 88,
      "metadata": {
        "id": "VB1nVML5bDsQ",
        "colab": {
          "base_uri": "https://localhost:8080/"
        },
        "outputId": "606139f1-bb46-449b-fa6c-4a63365b7e9f"
      },
      "outputs": [
        {
          "output_type": "execute_result",
          "data": {
            "text/plain": [
              "array([b'Very predictible sweet movie A very predictible sweet little movie. It has the pace of a Christian movie.',\n",
              "       b\"Focus issues Learn how to rack focus and teach actors not to step on each other's lines. Brutal.\",\n",
              "       b'WINNERS THEN, MADE US LOSERS NOW Great victory 40 years ago, complete losers now. Must have taken one too many body checks.',\n",
              "       b\"I died of boredom halfway through The movie feels as it's been written by a 18 year old emo kid.\\neverything is like, super meaningful, and like deep and stuff.every detail is like super retro, and the girl has great hair.\",\n",
              "       b\"Father of Nepotism His life's only motive is to launch talentless nepokids.\",\n",
              "       b'Warning Spoilers American Horror Story had a great start with a solid season 1. Afterwards things went town hill. Season 1 was like the Shining. The rest was like Disney Star Wars. You can see a huge shift from season 1 writing and the rest of the seasons.',\n",
              "       b'\"This Goes on into Perpetuity\" Malloy (Frank Schofield) is drinking when Carolyn (Nancy Barrett) returns to town, from her lunch with Burke in Bangor. She calls the Blue Whale \"my favorite hangout.\" As Malloy doesn\\'t drink in the afternoon, Carolyn expresses mild concern. Malloy hints he may have unpleasant news to share with Liz. At Collinwood, Liz (Joan Bennett) is awaiting another call from Ned Calder. When she is on the telephone, we learn Collinwood\\'s telephone number is COL-4099. Looking good, Liz welcomes visiting Collins banker Patrick McVey (as John Harris) from Bangor. They haven\\'t seen each other in four years. Liz tells him she wants to set up a trust fund for nephew David, but Harris suspects something more is troubling his old friend...Harris tells Liz, \"You need Ned back at the helm before your whole fleet sinks,\" since neither Roger nor Malloy is capable of handling Collins Enterprises. Harris reminds Liz that Ned asked her to marry him before he left. Liz reminds Harris that she\\'s still legally married to Paul Stoddard. Ned calls, but without good news. In his only \"Dark Shadows\" appearance, Mr. McVey has difficulty in his scene with Ms. Bennett, who provides no help. Bennett shows she can be both lost and effective. This episode ends with Malloy arranging to confront Roger with new knowledge regarding the 1956 car crash involving Burke, Roger, Laura and a dead man. Liz and her employees are also made more clear about Burke Devlin\\'s motives...*** Dark Shadows 1966 ABC #44 (8/25/66) Lela Swift ~ Joan Bennett, Frank Schofield, Patrick McVey, Nancy Barrett...',\n",
              "       b'This film defines the term \"dog\\'s breakfast.\" As we all know, Hollywood has produced some extremely expensive bombs, but, in my humble opinion, this one remains in a class all its own. While it is certainly possible to spend millions of dollars, create humongous, ornate sets, and fill those sets with thousands of extras, the sheer immensity and complexity of the result does not automatically equal great art. Bigger is not always better. In fact, as in the case of this movie, it makes for a more spectacular failure. Perhaps the best way to explain the failure of Cleopatra is to contrast it with another Hollywood epic, Ben-Hur. In the latter film, there is a sublime scene where Ben-Hur is being whipped by a Roman guard on a forced slave march. Ben-Hur falls, and we see Christ (whose face is never shown) helping Ben-Hur with a drink of water. The expressions on the faces of Ben-Hur and the guard as they react to Christ\\'s kindness, is one of the most moving scenes in film history. Only two actors are involved (and the back of a third), but the result is light-years beyond anything Cleopatra achieves.The acting in Cleopatra struck me as wooden and passionless, which is a fatal defect in a movie about a woman who was supposed to set men aflame with desire. Elizabeth Taylor did not impress me as a great beauty in this film. In fact, she looks kind of short, frumpy and chunky, though it\\'s possible that beauty standards have changed somewhat since 1963. One of the few good points about the film is that it filled in some glaring gaps in my knowledge of Roman history. All in all, I would say the movie has a unique, grandiose, and epic kind of badness. You need to slow down and gawk at it, as you would a gruesome pile-up on the highway. You should see it just so you know how bad a Hollywood dog\\'s breakfast can be.',\n",
              "       b\"No, thank you. I was really looking forward to sharing this series with my daughters. I enjoyed the feel of it and thought it was really well done after watching the first episode. Then I kept watching until I couldn't watch anymore. There are significant social controversies addressed in the episodes that are not necessary, they were never part of the original stories and they are clearly intentionally added to propogate and influence a younger generation. It's unfortunate and not something my kids will be watching.\"],\n",
              "      dtype=object)"
            ]
          },
          "metadata": {},
          "execution_count": 88
        }
      ],
      "source": [
        "text_batch.numpy()[mask]"
      ]
    },
    {
      "cell_type": "code",
      "source": [
        "mask = np.logical_and(y_test_np == 2, y_pred_np == 0)"
      ],
      "metadata": {
        "id": "wLvPf3fTAqSy"
      },
      "execution_count": 91,
      "outputs": []
    },
    {
      "cell_type": "code",
      "source": [
        "text_batch.numpy()[mask]"
      ],
      "metadata": {
        "colab": {
          "base_uri": "https://localhost:8080/"
        },
        "id": "Wxuzg9OGAs_X",
        "outputId": "00902642-c6e8-4b9c-ebdf-3d7ffc612acf"
      },
      "execution_count": 92,
      "outputs": [
        {
          "output_type": "execute_result",
          "data": {
            "text/plain": [
              "array([b'Finally non quirky sitcom! Im sick of quirky sitcom where the character is talking nonsense in the middle of their conversation, or doing unbelievable stupid things, this not it. I love it!',\n",
              "       b'Wonderful /Unique I am like movie fanatci and seeing movie since 2008 but never write any reviews.\\nThis movie is so powerful that force me to write some line to make recognition of this movie.\\nI have are here to decide to watch it then dont waste time. the movie is about atheist person who is looking for scientific reason for .....Just watch it',\n",
              "       b'Shark Tank The answer to the rising toilet fiasco involves a trip to Shark Tank, the popular TV show where entrepreneurs attempt to sell an idea. But the greatest part of this episode involves Frankie and Grace trying to get their prototype toilet back after accidentally leaving it on a curb while a flat tire was being repaired. There are other issues with Sol and Robert as Robert is going to attempt to put the proper money back into the bank account.',\n",
              "       b\"Super sleazy, just like you like it! Aka Lady Caligula in Tokyo, this is a super kinky tale of a housewife who discovers her hubby cheating and begins a sexual odyssey after meeting an old friend, the titular Madam Caligula.Directed by smut master Ohara, this one covers all the perversion bases, and with minimal, if any, optical fogging. At only 60 minutes it does feel a bit short though. The Impulse dvd transfer looks to be another tape transfer but is not unwatchable. If you like your pinku on the sleazy side, don't miss this one.\",\n",
              "       b'Disappointed with the ending This drama was too good for me when it was started after episodes going it failed to create the same excitement where it created in the start of the show\\nThe climax disappointed me... It ruined the whole show',\n",
              "       b\"The ending made me cry Beautiful film, in no way is it a waste of time pretentious animation. It's like being depressed and dead and born for the first time and in extreme joy about the universe's existence all at the same time.\",\n",
              "       b\"Can't stand adult cartoons Honestly I'm sure I'm prejudice as hell but I loved this show. I've never actually watched a whole season of one of these types of shows (\\xf0\\x9f\\x98\\xac) like I usually just don't get it. God, my friend had a fit when I said I didn't like Rick and Morty, or Archer, but Rick and Morty was fu\\xc2\\xa2king gross (Someone said I should start with Pickle Rick and I literally had nightmares yes I'm a sissy) and Archer, I really didn't give much of a chance after his mom was torturing him naked (ew). But this show starred one of my vary favorite actors of all time, and if I'm completely honest he portrayed one of the first tv characters I had a crush on. Yep, when I was like 13 I thought Nick Miller from new girl was the best tv boyfriend (truthfully it him was and Captain Hook from OUAT but I digress). So once I saw this show on Netflix I was excited, but also sad because there was no way I could watch this and actually like it, but I did! For the most part, like it had plenty of ew moments but overall I really liked it. Probably not 10 stars worth but the rating being so low made me sad, I really wanted to know what happens!\\nEdit: Re: I'm a sissy. There was an episode with a horse I had to skip. It really freaked me out which was a shame bc that episode had Schmidt (Max Greenfield) from New Girl too and I was HYPED.\",\n",
              "       b\"Best and Worst Casting Ever In comparison to other movies based on dystopia-ish teen books, this one is probably the best. Unlike Divergent and Maze Runner, there was an actual story in this other than mindless fighting that breaks the laws of physics. Story-wise, this movie deserves a 6/10. It was watchable. And unlike when I watched Divergent and Maze Runner, none of my brain cells died from dealing with boredom and stupidity. But what brought this movie up from a 6 to an 8 for me, was the casting. In some ways, this was the worse casting ever, in that whoever casted it had no concept of age. I mean, you really want me to believe a man born in 1977 spawned a kid born in 1988? But all that aside, OMG EVERY CHARACTER IN THIS MOVIE WAS UNBELIEVABLY GORGEOUS!!! So I'm watching this, at at the first scene I'm just ogling over Luke. And then I'm ogling over Jace, and Alec. And my male friends were just sitting there drooling over Clary. Whoever did the casting for Magic Mike should take a lesson and cast these hotties instead of the fugly druggies they casted in Magic Mike.\",\n",
              "       b\"Jessica Jones is fabulous I love Jessica Jones; her character, attitude, past and present. Everything about her is fabulous. What i don't like, is Trish. Season 1 was amazing because it was all about Jessica with bits of the others. Season 2 and 3 were good, but I wanted to fast forward all of the Trish garbage. I find the character to be very unlikable. Yes, I know we're supposed to like-hate her, and we're supposed to feel for her because of her abusive mother, but its impossible to like her and she really brings down the show. I want another season where Trish is gone. She can be in jail, in another city, or dead. I'm okay with some minor scenes with her, but the show needs to focus on Jessica and not the horrible side kick.\",\n",
              "       b'A better movie was made, then was released. I saw ST:Nemesis when it initially came out. I was confused and disappointed. While having plenty of action, the plot did not seem to make sense; why was Shinzon wanting to destroy Earth? Why were some Senators helping him? Why was Troi some vindictive against the telepathic Remian. Recently, I got to see the movie again on AMC, running time 150 with commercials. The original ran 116 minutes. There were scenes I never got to see before; depiction of Shinzon\\'s enslavement, Riker and Troi in bedroom, scenes regarding examination and reconstruction of Data\\'s \"brother\", more footage in Romulan senate, exteriors of Romulus Senate building after zoom in on planet. The execs at Paramount did not understand what Star Trek is all about. It is not an action series in space like Star Wars, which rennouned for it\\'s lousy dialog. Star Trek is a drama, that happens to take place in the future with some action thrown in. Had the movie been released with these \"extra\" scenes, undoutbably, it would have done much better. Paramount did the everyone who hand in making this film, and everyone who first saw this film a disservice. No wonder after this experience, Patrick Stewart said he was not going to play Picard again.'],\n",
              "      dtype=object)"
            ]
          },
          "metadata": {},
          "execution_count": 92
        }
      ]
    }
  ],
  "metadata": {
    "colab": {
      "collapsed_sections": [],
      "name": "IMDB Movie Reviews with ratings- DNN with batch input.ipynb",
      "provenance": [],
      "toc_visible": true
    },
    "kernelspec": {
      "display_name": "Python 3",
      "name": "python3"
    },
    "language_info": {
      "name": "python"
    }
  },
  "nbformat": 4,
  "nbformat_minor": 0
}